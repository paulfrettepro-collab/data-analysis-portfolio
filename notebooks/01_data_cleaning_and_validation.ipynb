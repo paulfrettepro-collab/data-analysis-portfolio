{
 "cells": [
  {
   "cell_type": "markdown",
   "id": "7e562bad",
   "metadata": {},
   "source": [
    "# 📊 Data Cleaning & Validation - Portfolio Project\n",
    "\n",
    "**Auteur**: Paul Frette  \n",
    "**Objectif**: Démonstration de techniques de nettoyage et validation de données  \n",
    "**Technologies**: Python, Pandas, NumPy, Regex\n",
    "\n",
    "---\n",
    "\n",
    "## 🎯 Contexte\n",
    "\n",
    "Ce notebook démontre mes compétences en nettoyage et validation de données sur un cas d'usage réel :\n",
    "- Import et nettoyage de données clients provenant de sources multiples\n",
    "- Standardisation des formats\n",
    "- Validation des emails et téléphones avec regex\n",
    "- Analyse de qualité des données\n",
    "\n",
    "---"
   ]
  },
  {
   "cell_type": "markdown",
   "id": "d78473d5",
   "metadata": {},
   "source": [
    "## 1️⃣ Import des Librairies"
   ]
  },
  {
   "cell_type": "code",
   "execution_count": null,
   "id": "6e6c49a7",
   "metadata": {},
   "outputs": [],
   "source": [
    "# Librairies standard\n",
    "import pandas as pd\n",
    "import numpy as np\n",
    "import re\n",
    "\n",
    "# Visualisation\n",
    "import matplotlib.pyplot as plt\n",
    "import seaborn as sns\n",
    "\n",
    "# Configuration\n",
    "pd.set_option('display.max_columns', None)\n",
    "sns.set_style('whitegrid')\n",
    "\n",
    "print(\"✅ Librairies importées avec succès\")\n",
    "print(f\"📦 Pandas version: {pd.__version__}\")\n",
    "print(f\"📦 NumPy version: {np.__version__}\")"
   ]
  },
  {
   "cell_type": "markdown",
   "id": "0c2df988",
   "metadata": {},
   "source": [
    "## 2️⃣ Création de Données de Démonstration\n",
    "\n",
    "Pour ce portfolio, je crée un jeu de données fictif représentatif du type de données que j'ai traité."
   ]
  },
  {
   "cell_type": "code",
   "execution_count": null,
   "id": "33c4f239",
   "metadata": {},
   "outputs": [],
   "source": [
    "# Création d'un dataset fictif pour démonstration\n",
    "np.random.seed(42)\n",
    "\n",
    "data = {\n",
    "    'ID': range(1, 101),\n",
    "    'First Name': ['John', 'Jane', 'Bob', 'Alice', 'Charlie'] * 20,\n",
    "    'Last Name': ['Doe', 'Smith', 'Johnson', 'Williams', 'Brown'] * 20,\n",
    "    'Email': [\n",
    "        'john.doe@email.com', 'jane.smith@company.fr', 'bob@invalid',\n",
    "        'alice.williams@test.com', 'charlie.brown@example.org'\n",
    "    ] * 20,\n",
    "    'Phone': [\n",
    "        '0612345678', '06-12-34-56-78', '0612345', \n",
    "        '0612345678', 'invalid_phone'\n",
    "    ] * 20,\n",
    "    'Mobile Phone': [None, '0698765432', None, '0698765432', None] * 20,\n",
    "    'Phone1': ['0612345678', None, None, None, '0687654321'] * 20,\n",
    "    'Gender': ['Male', 'Female', 'male', 'FEMALE', None] * 20,\n",
    "    'Created At': pd.date_range('2022-01-01', periods=100, freq='D'),\n",
    "    'Type Contact': ['individual', 'company', 'Individual', 'Company', None] * 20\n",
    "}\n",
    "\n",
    "df = pd.DataFrame(data)\n",
    "\n",
    "print(f\"✅ Dataset créé: {df.shape[0]} lignes, {df.shape[1]} colonnes\")\n",
    "df.head()"
   ]
  },
  {
   "cell_type": "markdown",
   "id": "6f8e1c10",
   "metadata": {},
   "source": [
    "## 3️⃣ Nettoyage des Noms de Colonnes\n",
    "\n",
    "**Problème**: Les colonnes ont des espaces et des majuscules incohérentes.  \n",
    "**Solution**: Standardisation avec regex."
   ]
  },
  {
   "cell_type": "code",
   "execution_count": null,
   "id": "e9f6af54",
   "metadata": {},
   "outputs": [],
   "source": [
    "def clean_column_name(column_name):\n",
    "    \"\"\"\n",
    "    Nettoie les noms de colonnes:\n",
    "    - Remplace caractères spéciaux par underscores\n",
    "    - Convertit en minuscules\n",
    "    \"\"\"\n",
    "    cleaned_name = re.sub(r\"[^a-zA-Z0-9]\", \"_\", column_name)\n",
    "    cleaned_name = cleaned_name.lower()\n",
    "    return cleaned_name\n",
    "\n",
    "# Appliquer sur toutes les colonnes\n",
    "print(\"📝 Colonnes avant nettoyage:\")\n",
    "print(df.columns.tolist())\n",
    "\n",
    "new_column_names = {old: clean_column_name(old) for old in df.columns}\n",
    "df = df.rename(columns=new_column_names)\n",
    "\n",
    "print(\"\\n✅ Colonnes après nettoyage:\")\n",
    "print(df.columns.tolist())"
   ]
  },
  {
   "cell_type": "markdown",
   "id": "d22b4914",
   "metadata": {},
   "source": [
    "## 4️⃣ Sélection du Téléphone Principal\n",
    "\n",
    "**Problème**: Plusieurs colonnes de téléphone, besoin de sélectionner la plus fiable.  \n",
    "**Solution**: Fonction avec logique de priorité et validation regex."
   ]
  },
  {
   "cell_type": "code",
   "execution_count": null,
   "id": "e3ecb9dd",
   "metadata": {},
   "outputs": [],
   "source": [
    "def get_most_probable_phone(row):\n",
    "    \"\"\"\n",
    "    Parcourt les colonnes de téléphone par ordre de priorité\n",
    "    et retourne le premier numéro valide (10 chiffres).\n",
    "    \"\"\"\n",
    "    phone_columns = ['phone', 'mobile_phone', 'phone1']\n",
    "    \n",
    "    for column in phone_columns:\n",
    "        if column in row.index and isinstance(row[column], str):\n",
    "            # Vérification: au moins 10 chiffres consécutifs\n",
    "            if re.search(r'\\d{10}', row[column]):\n",
    "                return row[column]\n",
    "    return None\n",
    "\n",
    "# Appliquer la fonction\n",
    "df['phone_principal'] = df.apply(get_most_probable_phone, axis=1)\n",
    "\n",
    "print(\"✅ Téléphone principal extrait\")\n",
    "print(f\"Taux de complétude: {df['phone_principal'].notna().sum() / len(df) * 100:.1f}%\")\n",
    "df[['phone', 'mobile_phone', 'phone1', 'phone_principal']].head(10)"
   ]
  },
  {
   "cell_type": "markdown",
   "id": "f19e8d96",
   "metadata": {},
   "source": [
    "## 5️⃣ Conversion de Types avec Gestion d'Erreurs\n",
    "\n",
    "**Objectif**: Convertir les colonnes vers les types appropriés sans plantage."
   ]
  },
  {
   "cell_type": "code",
   "execution_count": null,
   "id": "3c99beb9",
   "metadata": {},
   "outputs": [],
   "source": [
    "# Conversion sécurisée des types\n",
    "print(\"📊 Types avant conversion:\")\n",
    "print(df.dtypes)\n",
    "\n",
    "# Entiers nullables (accepte les NaN)\n",
    "df['id'] = pd.to_numeric(df['id'], errors='coerce').astype('Int64')\n",
    "\n",
    "# Dates\n",
    "df['created_at'] = pd.to_datetime(df['created_at'], errors='coerce')\n",
    "\n",
    "# Catégories (économie de mémoire)\n",
    "df['gender'] = df['gender'].astype('category')\n",
    "df['type_contact'] = df['type_contact'].astype('category')\n",
    "\n",
    "# Strings\n",
    "string_columns = ['first_name', 'last_name', 'email', 'phone_principal']\n",
    "for col in string_columns:\n",
    "    if col in df.columns:\n",
    "        df[col] = df[col].astype(str)\n",
    "\n",
    "print(\"\\n✅ Types après conversion:\")\n",
    "print(df.dtypes)\n",
    "\n",
    "print(f\"\\n💾 Réduction mémoire avec catégories: {df.memory_usage(deep=True).sum() / 1024:.2f} KB\")"
   ]
  },
  {
   "cell_type": "markdown",
   "id": "1b831bd1",
   "metadata": {},
   "source": [
    "## 6️⃣ Validation d'Emails avec Regex\n",
    "\n",
    "**Objectif**: Identifier les emails valides/invalides pour nettoyage."
   ]
  },
  {
   "cell_type": "code",
   "execution_count": null,
   "id": "f206daab",
   "metadata": {},
   "outputs": [],
   "source": [
    "def is_valid_email(email):\n",
    "    \"\"\"\n",
    "    Valide un email avec regex selon le format standard.\n",
    "    \"\"\"\n",
    "    if not isinstance(email, str) or email == 'nan':\n",
    "        return False\n",
    "    \n",
    "    regex = r\"^[a-zA-Z0-9._%+-]+@[a-zA-Z0-9.-]+\\.[a-zA-Z]{2,}$\"\n",
    "    return bool(re.match(regex, email))\n",
    "\n",
    "# Appliquer la validation\n",
    "df['email_valid'] = df['email'].apply(is_valid_email)\n",
    "\n",
    "# Statistiques\n",
    "valid_count = df['email_valid'].sum()\n",
    "invalid_count = (~df['email_valid']).sum()\n",
    "\n",
    "print(f\"✅ Emails valides: {valid_count} ({valid_count/len(df)*100:.1f}%)\")\n",
    "print(f\"❌ Emails invalides: {invalid_count} ({invalid_count/len(df)*100:.1f}%)\")\n",
    "\n",
    "# Exemples d'emails invalides\n",
    "print(\"\\n📧 Exemples d'emails invalides:\")\n",
    "print(df[~df['email_valid']][['email']].head())"
   ]
  },
  {
   "cell_type": "markdown",
   "id": "a2c9089c",
   "metadata": {},
   "source": [
    "## 7️⃣ Validation de Numéros de Téléphone\n",
    "\n",
    "**Format attendu**: 10 chiffres (format français)"
   ]
  },
  {
   "cell_type": "code",
   "execution_count": null,
   "id": "fecd5a3a",
   "metadata": {},
   "outputs": [],
   "source": [
    "def is_valid_phone(phone):\n",
    "    \"\"\"\n",
    "    Valide un numéro de téléphone (10 chiffres).\n",
    "    \"\"\"\n",
    "    if not isinstance(phone, str) or phone == 'None':\n",
    "        return False\n",
    "    \n",
    "    # Extraire uniquement les chiffres\n",
    "    digits = re.sub(r'\\D', '', phone)\n",
    "    \n",
    "    # Vérifier 10 chiffres exactement\n",
    "    return len(digits) == 10\n",
    "\n",
    "# Validation\n",
    "df['phone_valid'] = df['phone_principal'].apply(is_valid_phone)\n",
    "\n",
    "valid_phones = df['phone_valid'].sum()\n",
    "invalid_phones = (~df['phone_valid']).sum()\n",
    "\n",
    "print(f\"✅ Téléphones valides: {valid_phones} ({valid_phones/len(df)*100:.1f}%)\")\n",
    "print(f\"❌ Téléphones invalides: {invalid_phones} ({invalid_phones/len(df)*100:.1f}%)\")\n",
    "\n",
    "# Exemples invalides\n",
    "print(\"\\n📞 Exemples de téléphones invalides:\")\n",
    "print(df[~df['phone_valid']][['phone_principal']].head())"
   ]
  },
  {
   "cell_type": "markdown",
   "id": "b4f385f6",
   "metadata": {},
   "source": [
    "## 8️⃣ Analyse de Complétude des Données\n",
    "\n",
    "**Objectif**: Mesurer la qualité du dataset."
   ]
  },
  {
   "cell_type": "code",
   "execution_count": null,
   "id": "9d0ebb13",
   "metadata": {},
   "outputs": [],
   "source": [
    "# Calculer le taux de complétude\n",
    "completeness = df.notna().sum() / len(df)\n",
    "\n",
    "# Créer un rapport détaillé\n",
    "quality_report = pd.DataFrame({\n",
    "    'Colonne': df.columns,\n",
    "    'Type': df.dtypes,\n",
    "    'Valeurs Non-Nulles': df.notna().sum(),\n",
    "    'Valeurs Nulles': df.isnull().sum(),\n",
    "    'Taux Complétude (%)': (completeness * 100).round(2)\n",
    "})\n",
    "\n",
    "quality_report = quality_report.sort_values('Taux Complétude (%)', ascending=False)\n",
    "\n",
    "print(\"📊 Rapport de Qualité des Données\")\n",
    "print(\"=\" * 70)\n",
    "print(quality_report.to_string(index=False))"
   ]
  },
  {
   "cell_type": "markdown",
   "id": "9a7e1a97",
   "metadata": {},
   "source": [
    "## 9️⃣ Visualisation de la Qualité\n",
    "\n",
    "Graphique visuel du taux de complétude par colonne."
   ]
  },
  {
   "cell_type": "code",
   "execution_count": null,
   "id": "c7d9b561",
   "metadata": {},
   "outputs": [],
   "source": [
    "# Graphique de complétude\n",
    "plt.figure(figsize=(12, 6))\n",
    "\n",
    "# Préparer les données pour le graphique\n",
    "plot_data = quality_report[['Colonne', 'Taux Complétude (%)']].head(10)\n",
    "\n",
    "plt.barh(plot_data['Colonne'], plot_data['Taux Complétude (%)'], \n",
    "         color='steelblue', edgecolor='navy')\n",
    "plt.xlabel('Taux de Complétude (%)', fontsize=12, fontweight='bold')\n",
    "plt.ylabel('Colonnes', fontsize=12, fontweight='bold')\n",
    "plt.title('Taux de Complétude par Colonne', fontsize=14, fontweight='bold')\n",
    "plt.xlim(0, 105)\n",
    "\n",
    "# Ajouter une ligne de référence à 95%\n",
    "plt.axvline(x=95, color='red', linestyle='--', linewidth=2, alpha=0.7, label='Seuil 95%')\n",
    "plt.legend()\n",
    "\n",
    "plt.tight_layout()\n",
    "plt.show()\n",
    "\n",
    "print(\"✅ Visualisation générée\")"
   ]
  },
  {
   "cell_type": "markdown",
   "id": "8433c4d2",
   "metadata": {},
   "source": [
    "## 🔟 Détection de Doublons\n",
    "\n",
    "Identifier les doublons sur emails et téléphones."
   ]
  },
  {
   "cell_type": "code",
   "execution_count": null,
   "id": "63d66ca5",
   "metadata": {},
   "outputs": [],
   "source": [
    "# Doublons sur email\n",
    "email_duplicates = df[df['email_valid']]['email'].duplicated(keep=False).sum()\n",
    "print(f\"📧 Doublons d'emails: {email_duplicates} ({email_duplicates/len(df)*100:.1f}%)\")\n",
    "\n",
    "# Doublons sur téléphone\n",
    "phone_duplicates = df[df['phone_valid']]['phone_principal'].duplicated(keep=False).sum()\n",
    "print(f\"📞 Doublons de téléphones: {phone_duplicates} ({phone_duplicates/len(df)*100:.1f}%)\")\n",
    "\n",
    "# Afficher des exemples de doublons\n",
    "if email_duplicates > 0:\n",
    "    print(\"\\n📋 Exemples de doublons d'emails:\")\n",
    "    duplicate_emails = df[df['email'].duplicated(keep=False)].sort_values('email')\n",
    "    print(duplicate_emails[['id', 'first_name', 'last_name', 'email']].head(10))"
   ]
  },
  {
   "cell_type": "markdown",
   "id": "74514757",
   "metadata": {},
   "source": [
    "## 📊 Résumé Final\n",
    "\n",
    "Rapport consolidé de l'analyse de qualité."
   ]
  },
  {
   "cell_type": "code",
   "execution_count": null,
   "id": "2a7af387",
   "metadata": {},
   "outputs": [],
   "source": [
    "print(\"\" + \"=\" * 70)\n",
    "print(\"📊 RÉSUMÉ DE L'ANALYSE DE QUALITÉ DES DONNÉES\")\n",
    "print(\"=\" * 70)\n",
    "print(f\"\\n📈 Dataset: {df.shape[0]} lignes × {df.shape[1]} colonnes\")\n",
    "print(f\"\\n✅ Emails valides: {df['email_valid'].sum()} / {len(df)} ({df['email_valid'].sum()/len(df)*100:.1f}%)\")\n",
    "print(f\"✅ Téléphones valides: {df['phone_valid'].sum()} / {len(df)} ({df['phone_valid'].sum()/len(df)*100:.1f}%)\")\n",
    "print(f\"\\n🔄 Doublons emails: {email_duplicates}\")\n",
    "print(f\"🔄 Doublons téléphones: {phone_duplicates}\")\n",
    "print(f\"\\n💾 Utilisation mémoire: {df.memory_usage(deep=True).sum() / 1024:.2f} KB\")\n",
    "print(\"\\n\" + \"=\" * 70)\n",
    "print(\"✨ Analyse terminée avec succès !\")\n",
    "print(\"=\" * 70)"
   ]
  },
  {
   "cell_type": "markdown",
   "id": "c6894dba",
   "metadata": {},
   "source": [
    "---\n",
    "\n",
    "## 🎯 Compétences Démontrées\n",
    "\n",
    "✅ **Nettoyage de données**\n",
    "- Standardisation des noms de colonnes avec regex\n",
    "- Sélection intelligente de données multiples sources\n",
    "\n",
    "✅ **Validation de données**\n",
    "- Regex pour emails (format standard)\n",
    "- Regex pour téléphones (format français)\n",
    "\n",
    "✅ **Conversion de types**\n",
    "- Gestion d'erreurs avec `errors='coerce'`\n",
    "- Types nullables (`Int64`)\n",
    "- Optimisation mémoire (catégories)\n",
    "\n",
    "✅ **Analyse de qualité**\n",
    "- Taux de complétude\n",
    "- Détection de doublons\n",
    "- Visualisations claires\n",
    "\n",
    "✅ **Bonnes pratiques**\n",
    "- Code commenté et documenté\n",
    "- Fonctions réutilisables\n",
    "- Rapports structurés\n",
    "\n",
    "---\n",
    "\n",
    "**Auteur**: Paul Frette  \n",
    "**Contact**: paul.frette.pro@gmail.com  \n",
    "**GitHub**: https://github.com/paulfrettepro-collab/data-analysis-portfolio"
   ]
  }
 ],
 "metadata": {
  "language_info": {
   "name": "python"
  }
 },
 "nbformat": 4,
 "nbformat_minor": 5
}
